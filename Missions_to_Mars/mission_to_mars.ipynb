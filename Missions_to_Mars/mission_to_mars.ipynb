{
 "cells": [
  {
   "cell_type": "code",
   "execution_count": 1,
   "metadata": {},
   "outputs": [],
   "source": [
    "from splinter import Browser\n",
    "from bs4 import BeautifulSoup\n",
    "import pandas as pd\n",
    "#import pymongo"
   ]
  },
  {
   "cell_type": "code",
   "execution_count": 2,
   "metadata": {},
   "outputs": [],
   "source": [
    "def init_browser():\n",
    "\n",
    "    executable_path = {\"executable_path\": \"/usr/local/bin/chromedriver\"}\n",
    "    return Browser(\"chrome\", **executable_path, headless = False)"
   ]
  },
  {
   "cell_type": "code",
   "execution_count": 3,
   "metadata": {},
   "outputs": [],
   "source": [
    "def scrape_nasa_info():\n",
    "    browser = init_browser()\n",
    "    \n",
    "    url = \"https://mars.nasa.gov/news/\" \n",
    "    browser.visit(url)\n",
    "    \n",
    "    html = browser.html\n",
    "    soup = BeautifulSoup(html, \"html.parser\")\n",
    "\n",
    "    article = soup.find(\"div\", class_='list_text')\n",
    "    news_title = article.find('div', class_=\"content_title\").find('a').text\n",
    "    news_p = article.find('div',class_=\"article_teaser_body\").text\n",
    "    \n",
    "    nasa_data = {\"news_title\":news_title,\n",
    "                \"news_p\":news_p}\n",
    "    browser.quit()\n",
    "    \n",
    "    return nasa_data"
   ]
  },
  {
   "cell_type": "code",
   "execution_count": 4,
   "metadata": {},
   "outputs": [],
   "source": [
    "def scrape_jpl_info():\n",
    "    browser = init_browser()\n",
    "    \n",
    "    url = \"https://www.jpl.nasa.gov/spaceimages/?search=&category=Mars\" \n",
    "    browser.visit(url)\n",
    "\n",
    "    html = browser.html\n",
    "    soup = BeautifulSoup(html, \"html.parser\")\n",
    "\n",
    "    relative_image_path = soup.find(\"article\", class_=\"carousel_item\").find(\"footer\").find(\"a\")[\"data-fancybox-href\"]\n",
    "    featured_image_url = url + relative_image_path\n",
    "    \n",
    "    browser.quit()\n",
    "    \n",
    "    return featured_image_url"
   ]
  },
  {
   "cell_type": "code",
   "execution_count": 5,
   "metadata": {},
   "outputs": [],
   "source": [
    "##INSERT TWITTER WEATHER DATA HERE"
   ]
  },
  {
   "cell_type": "code",
   "execution_count": null,
   "metadata": {},
   "outputs": [],
   "source": []
  },
  {
   "cell_type": "code",
   "execution_count": null,
   "metadata": {},
   "outputs": [],
   "source": [
    "##Mars Facts\n",
    "#use Pandas to scrape the table containing facts about the planet including Diameter, Mass, etc.\n",
    "\n",
    "def scrape_mars_facts():\n",
    "    facts_url = 'https://space-facts.com/mars/'\n",
    "    mars_df = pd.read_html(facts_url)[0]\n",
    "    mars_df.columns = [\"Description\", \"Value\"]\n",
    "    \n",
    "    mars_html = mars_df.to_html()\n",
    "    mars_html = mars_html.replace('\\n', '')\n",
    "    \n",
    "    return mars_html"
   ]
  },
  {
   "cell_type": "code",
   "execution_count": null,
   "metadata": {},
   "outputs": [],
   "source": [
    "##Mars Hemispheres\n",
    "# Mars hemisphere name and image to be scraped\n",
    "def scrape_mars_hemispheres():\n",
    "\n",
    "    browser = init_browser()\n",
    "    base_url = 'https://astrogeology.usgs.gov'\n",
    "    hemispheres_url = 'https://astrogeology.usgs.gov/search/results?q=hemisphere+enhanced&k1=target&v1=Mars'\n",
    "\n",
    "    browser.visit(hemispheres_url)\n",
    "\n",
    "    hemispheres_html = browser.html\n",
    "\n",
    "    hemispheres_soup = BeautifulSoup(hemispheres_html, 'html.parser')\n",
    "    \n",
    "    all_mars_hemispheres = hemispheres_soup.find('div', class_='result-list')\n",
    "    mars_hemispheres = all_mars_hemispheres.find_all('div', class_='item')\n",
    "\n",
    "    hemisphere_image_urls = []\n",
    "\n",
    "    # Collect all data per hemisphere\n",
    "    for hemisphere in mars_hemispheres:\n",
    "\n",
    "        # Collect Titles\n",
    "        hemisphere = hemisphere.find('div', class_=\"description\")\n",
    "        title = hemisphere.h3.text\n",
    "\n",
    "        # Collect image links\n",
    "        hemisphere_link = hemisphere.a[\"href\"]    \n",
    "        browser.visit(base_url + hemisphere_link)\n",
    "\n",
    "        image_html = browser.html\n",
    "        image_soup = BeautifulSoup(image_html, 'html.parser')\n",
    "\n",
    "        image_link = image_soup.find('div', class_='downloads')\n",
    "        image_url = image_link.find('li').a['href']\n",
    "\n",
    "        # Store in dictionary\n",
    "        image_dict = {}\n",
    "        image_dict['title'] = title\n",
    "        image_dict['img_url'] = image_url\n",
    "\n",
    "        hemisphere_image_urls.append(image_dict)\n",
    "\n",
    "    browser.quit()\n",
    "    \n",
    "    return hemisphere_image_urls"
   ]
  },
  {
   "cell_type": "code",
   "execution_count": null,
   "metadata": {},
   "outputs": [],
   "source": []
  },
  {
   "cell_type": "code",
   "execution_count": null,
   "metadata": {},
   "outputs": [],
   "source": []
  }
 ],
 "metadata": {
  "kernelspec": {
   "display_name": "Python 3",
   "language": "python",
   "name": "python3"
  },
  "language_info": {
   "codemirror_mode": {
    "name": "ipython",
    "version": 3
   },
   "file_extension": ".py",
   "mimetype": "text/x-python",
   "name": "python",
   "nbconvert_exporter": "python",
   "pygments_lexer": "ipython3",
   "version": "3.7.4"
  }
 },
 "nbformat": 4,
 "nbformat_minor": 4
}
